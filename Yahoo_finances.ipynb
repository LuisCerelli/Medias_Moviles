{
 "cells": [
  {
   "cell_type": "code",
   "execution_count": null,
   "metadata": {},
   "outputs": [],
   "source": [
    "#Pequeño ejemplo de como funciona la API de yahoo finance\n",
    "\n",
    "import yfinance as yf\n",
    "import pandas as pd\n",
    "from datetime import datetime, timedelta\n",
    "import matplotlib.pyplot as plt\n",
    "import os  # <- Este módulo permite interactuar con el sistema de archivos\n",
    "\n",
    "#Definimos el simbolo de la accion: \n",
    "ticker_symbol = \"TSLA\"\n",
    "\n",
    "#Calculamos las fechas de hace dos anos y la fecha actual: \n",
    "end_date = datetime.today().strftime('%Y-%m-%d')\n",
    "star_date = (datetime.today() - timedelta(days=3650)).strftime('%Y-%m-%d')\n",
    "#print(end_date, star_date)\n",
    "\n",
    "#y esta sera la variable mas importante, donde la API de yahooFinance cargara todos los datos\n",
    "data = yf.download(ticker_symbol, start=star_date, end=end_date)\n",
    "#print(data)\n"
   ]
  }
 ],
 "metadata": {
  "language_info": {
   "name": "python"
  }
 },
 "nbformat": 4,
 "nbformat_minor": 2
}
